{
  "nbformat": 4,
  "nbformat_minor": 0,
  "metadata": {
    "colab": {
      "provenance": [],
      "include_colab_link": true
    },
    "kernelspec": {
      "name": "python3",
      "display_name": "Python 3"
    },
    "language_info": {
      "name": "python"
    }
  },
  "cells": [
    {
      "cell_type": "markdown",
      "metadata": {
        "id": "view-in-github",
        "colab_type": "text"
      },
      "source": [
        "<a href=\"https://colab.research.google.com/github/ekram1936/Adviserr/blob/main/Assignment_3.ipynb\" target=\"_parent\"><img src=\"https://colab.research.google.com/assets/colab-badge.svg\" alt=\"Open In Colab\"/></a>"
      ]
    },
    {
      "cell_type": "markdown",
      "source": [
        "Write a recursive function that calculates multiply of all odd\n",
        "number upto N. Take N from console input.\n"
      ],
      "metadata": {
        "id": "fKW0cgeem0d_"
      }
    },
    {
      "cell_type": "code",
      "execution_count": 2,
      "metadata": {
        "colab": {
          "base_uri": "https://localhost:8080/",
          "height": 412
        },
        "id": "mMkkP1f9Z9wr",
        "outputId": "b2f9d0f6-bb25-4fd8-b301-3e75c0cd410d"
      },
      "outputs": [
        {
          "output_type": "error",
          "ename": "KeyboardInterrupt",
          "evalue": "ignored",
          "traceback": [
            "\u001b[0;31m---------------------------------------------------------------------------\u001b[0m",
            "\u001b[0;31mKeyboardInterrupt\u001b[0m                         Traceback (most recent call last)",
            "\u001b[0;32m<ipython-input-2-d2e5d9130676>\u001b[0m in \u001b[0;36m<module>\u001b[0;34m\u001b[0m\n\u001b[0;32m----> 1\u001b[0;31m \u001b[0mn\u001b[0m\u001b[0;34m=\u001b[0m \u001b[0mint\u001b[0m\u001b[0;34m(\u001b[0m\u001b[0minput\u001b[0m\u001b[0;34m(\u001b[0m\u001b[0;34m\"Enter a Number: \"\u001b[0m\u001b[0;34m)\u001b[0m\u001b[0;34m)\u001b[0m\u001b[0;34m\u001b[0m\u001b[0;34m\u001b[0m\u001b[0m\n\u001b[0m\u001b[1;32m      2\u001b[0m \u001b[0;34m\u001b[0m\u001b[0m\n\u001b[1;32m      3\u001b[0m \u001b[0;32mdef\u001b[0m \u001b[0mrecursive_func\u001b[0m\u001b[0;34m(\u001b[0m\u001b[0mn\u001b[0m\u001b[0;34m)\u001b[0m\u001b[0;34m:\u001b[0m\u001b[0;34m\u001b[0m\u001b[0;34m\u001b[0m\u001b[0m\n\u001b[1;32m      4\u001b[0m   \u001b[0;32mif\u001b[0m \u001b[0mn\u001b[0m\u001b[0;34m%\u001b[0m\u001b[0;36m2\u001b[0m\u001b[0;34m!=\u001b[0m\u001b[0;36m0\u001b[0m\u001b[0;34m:\u001b[0m   \u001b[0;31m#Checking for Odd Number\u001b[0m\u001b[0;34m\u001b[0m\u001b[0;34m\u001b[0m\u001b[0m\n\u001b[1;32m      5\u001b[0m     \u001b[0;32mif\u001b[0m \u001b[0mn\u001b[0m\u001b[0;34m==\u001b[0m\u001b[0;36m1\u001b[0m\u001b[0;34m:\u001b[0m\u001b[0;34m\u001b[0m\u001b[0;34m\u001b[0m\u001b[0m\n",
            "\u001b[0;32m/usr/local/lib/python3.7/dist-packages/ipykernel/kernelbase.py\u001b[0m in \u001b[0;36mraw_input\u001b[0;34m(self, prompt)\u001b[0m\n\u001b[1;32m    861\u001b[0m             \u001b[0mself\u001b[0m\u001b[0;34m.\u001b[0m\u001b[0m_parent_ident\u001b[0m\u001b[0;34m,\u001b[0m\u001b[0;34m\u001b[0m\u001b[0;34m\u001b[0m\u001b[0m\n\u001b[1;32m    862\u001b[0m             \u001b[0mself\u001b[0m\u001b[0;34m.\u001b[0m\u001b[0m_parent_header\u001b[0m\u001b[0;34m,\u001b[0m\u001b[0;34m\u001b[0m\u001b[0;34m\u001b[0m\u001b[0m\n\u001b[0;32m--> 863\u001b[0;31m             \u001b[0mpassword\u001b[0m\u001b[0;34m=\u001b[0m\u001b[0;32mFalse\u001b[0m\u001b[0;34m,\u001b[0m\u001b[0;34m\u001b[0m\u001b[0;34m\u001b[0m\u001b[0m\n\u001b[0m\u001b[1;32m    864\u001b[0m         )\n\u001b[1;32m    865\u001b[0m \u001b[0;34m\u001b[0m\u001b[0m\n",
            "\u001b[0;32m/usr/local/lib/python3.7/dist-packages/ipykernel/kernelbase.py\u001b[0m in \u001b[0;36m_input_request\u001b[0;34m(self, prompt, ident, parent, password)\u001b[0m\n\u001b[1;32m    902\u001b[0m             \u001b[0;32mexcept\u001b[0m \u001b[0mKeyboardInterrupt\u001b[0m\u001b[0;34m:\u001b[0m\u001b[0;34m\u001b[0m\u001b[0;34m\u001b[0m\u001b[0m\n\u001b[1;32m    903\u001b[0m                 \u001b[0;31m# re-raise KeyboardInterrupt, to truncate traceback\u001b[0m\u001b[0;34m\u001b[0m\u001b[0;34m\u001b[0m\u001b[0;34m\u001b[0m\u001b[0m\n\u001b[0;32m--> 904\u001b[0;31m                 \u001b[0;32mraise\u001b[0m \u001b[0mKeyboardInterrupt\u001b[0m\u001b[0;34m(\u001b[0m\u001b[0;34m\"Interrupted by user\"\u001b[0m\u001b[0;34m)\u001b[0m \u001b[0;32mfrom\u001b[0m \u001b[0;32mNone\u001b[0m\u001b[0;34m\u001b[0m\u001b[0;34m\u001b[0m\u001b[0m\n\u001b[0m\u001b[1;32m    905\u001b[0m             \u001b[0;32mexcept\u001b[0m \u001b[0mException\u001b[0m \u001b[0;32mas\u001b[0m \u001b[0me\u001b[0m\u001b[0;34m:\u001b[0m\u001b[0;34m\u001b[0m\u001b[0;34m\u001b[0m\u001b[0m\n\u001b[1;32m    906\u001b[0m                 \u001b[0mself\u001b[0m\u001b[0;34m.\u001b[0m\u001b[0mlog\u001b[0m\u001b[0;34m.\u001b[0m\u001b[0mwarning\u001b[0m\u001b[0;34m(\u001b[0m\u001b[0;34m\"Invalid Message:\"\u001b[0m\u001b[0;34m,\u001b[0m \u001b[0mexc_info\u001b[0m\u001b[0;34m=\u001b[0m\u001b[0;32mTrue\u001b[0m\u001b[0;34m)\u001b[0m\u001b[0;34m\u001b[0m\u001b[0;34m\u001b[0m\u001b[0m\n",
            "\u001b[0;31mKeyboardInterrupt\u001b[0m: Interrupted by user"
          ]
        }
      ],
      "source": [
        "n= int(input(\"Enter a Number: \"))\n",
        "\n",
        "def recursive_func(n):\n",
        "  if n%2!=0:   #Checking for Odd Number\n",
        "    if n==1:\n",
        "      return 1\n",
        "    else:\n",
        "     print(n)\n",
        "     return n*recursive_func(n-2)\n",
        "  else:\n",
        "    n=n-1     #Get Even Number and convert to Odd\n",
        "    return recursive_func(n)\n",
        "    \n",
        "recursive_func(n)"
      ]
    },
    {
      "cell_type": "markdown",
      "source": [
        "Write a function that takes a matrix and add only even positional\n",
        "element of matrix and return the sum.\n"
      ],
      "metadata": {
        "id": "dUnG7YDRm8mp"
      }
    },
    {
      "cell_type": "code",
      "source": [
        "\n",
        "\n",
        "\n",
        "mat=[[1,2,3],\n",
        "     [4,5,6],\n",
        "     [7,8,9]]\n",
        "\n",
        "def mat_even_sum(value):\n",
        "  sum=0\n",
        "  for raw in range(0, len(value)):\n",
        "    for column in range(0, len(value)):\n",
        "      if (raw+column)%2==0:\n",
        "       sum=sum+value[raw][column]\n",
        "  return sum\n",
        "print(\"Sum of Even position Matrix Elements: \", mat_even_sum(mat))"
      ],
      "metadata": {
        "colab": {
          "base_uri": "https://localhost:8080/"
        },
        "id": "1qpHxG1GQshX",
        "outputId": "32953e51-0f7c-46c1-a41d-1daa15c956a5"
      },
      "execution_count": null,
      "outputs": [
        {
          "output_type": "stream",
          "name": "stdout",
          "text": [
            "Sum of Even position Matrix Elements:  25\n"
          ]
        }
      ]
    },
    {
      "cell_type": "markdown",
      "source": [
        "Write a function that takes two matrix as parameter and multiply\n",
        "them and return result matrix."
      ],
      "metadata": {
        "id": "7D_k16Il_d7z"
      }
    },
    {
      "cell_type": "code",
      "source": [
        "import rando\n",
        "#random matrix generation 3*3 & range is 1 to 5\n",
        "def mat_generation():\n",
        "  matrix=[]\n",
        "  #create randon list\n",
        "  def randomlist():\n",
        "    randomlist = []\n",
        "    for i in range(0,3):\n",
        "      n = random.randint(1,5)\n",
        "      randomlist.append(n)\n",
        "    return randomlist\n",
        "    #lists are convert to 3*3 matrix\n",
        "  for i in range (0,3):\n",
        "    matrix.append(randomlist())\n",
        "  return matrix\n",
        "\n",
        "#creat 2 random 3*3 matrix\n",
        "mat_1= mat_g''e''neration()\n",
        "mat_2 = mat_generation()\n",
        "\n",
        "\n",
        "def mat_multipy(m1, m2):\n",
        "  z=[]\n",
        "  new_mat=[]\n",
        "  for raw in range(0, len(m1)):\n",
        "    for column in range(0, len(m1)):\n",
        "      mul= m1[raw][column]*m2[column][raw]  #Martix-1's row * Matrix-2's column\n",
        "      z.append(mul)\n",
        "  #create new matrix based on length of Matrix's\n",
        "  while z != []:\n",
        "      new_mat.append(z[:len(m1)])\n",
        "      z= z[len(m1):]\n",
        "\n",
        "  return new_mat\n",
        "      \n",
        "mat_multipy(mat_1,mat_2)\n",
        "\n",
        "\n"
      ],
      "metadata": {
        "colab": {
          "base_uri": "https://localhost:8080/"
        },
        "id": "2ctuJtMmTfjS",
        "outputId": "30ac80a5-1d13-4cd2-e0f6-0b2f1cadc8af"
      },
      "execution_count": null,
      "outputs": [
        {
          "output_type": "execute_result",
          "data": {
            "text/plain": [
              "[[5, 10, 20], [4, 12, 15], [1, 8, 4]]"
            ]
          },
          "metadata": {},
          "execution_count": 323
        }
      ]
    },
    {
      "cell_type": "markdown",
      "source": [
        "Take a number N from user input and create a N * N matrix and\n",
        "fill the position with randomly generated value(use random\n",
        "function here) then inverse it and return the inversed matrix.\n"
      ],
      "metadata": {
        "id": "G4RC5jwWCotp"
      }
    },
    {
      "cell_type": "code",
      "source": [
        "import random\n",
        "#random matrix generation N*N & range is 1 to 5\n",
        "user_input = int(input(\"Please Enter a Number to create N*N Matrix : \"))\n",
        "def mat_generation1(un):\n",
        "  matrix=[]\n",
        "  #create randon list\n",
        "  def randomlist():\n",
        "    randomlist = []\n",
        "    for i in range(0,un):\n",
        "      n = random.randint(1,5)\n",
        "      randomlist.append(n)\n",
        "    return randomlist\n",
        "    #lists are convert to N*N matrix\n",
        "  for i in range (0,un):\n",
        "    matrix.append(randomlist())\n",
        "  return matrix\n",
        "created_mat= mat_generation1(user_input)\n",
        "print(\"Randomly Created Matrix\", created_mat)\n",
        "\n",
        "def inverse_mat(matrix):\n",
        "  inversed_mat=[]\n",
        "  for i in range(0, len(matrix)):\n",
        "    #Pick the Matrix Columns\n",
        "    cols= [column[i] for column in matrix]  \n",
        "    inversed_mat.append(cols)\n",
        "  return inversed_mat\n",
        "print(\"After Inverse the Matrix\", inverse_mat(created_mat))\n",
        "\n"
      ],
      "metadata": {
        "colab": {
          "base_uri": "https://localhost:8080/"
        },
        "id": "Wb0aBJF0sOvN",
        "outputId": "984e21e4-67c1-4fda-a40a-cb5fa7e1abbf"
      },
      "execution_count": null,
      "outputs": [
        {
          "output_type": "stream",
          "name": "stdout",
          "text": [
            "Please Enter a Number to create N*N Matrix : 5\n",
            "Randomly Created Matrix [[1, 3, 5, 5, 4], [2, 1, 1, 5, 4], [1, 4, 3, 2, 3], [4, 4, 3, 3, 4], [5, 1, 2, 2, 2]]\n",
            "After Inverse the Matrix [[1, 2, 1, 4, 5], [3, 1, 4, 4, 1], [5, 1, 3, 3, 2], [5, 5, 2, 3, 2], [4, 4, 3, 4, 2]]\n"
          ]
        }
      ]
    },
    {
      "cell_type": "markdown",
      "source": [
        "Write a function that takes a string S. S contains parenthesis and letter. Sometimes S contains invalid sequence of parenthesis, your task is to remove the invalid one and return the valid one. Explanation: input : \"a(b(c(de))\" -> output : \"a(b(cde))\". Input string contains an invalid “(” at position 5, so remove it. Explanation: input : \"((\" -> output : \"\". Both character are invalid here cause they don’t have close parenthesis here"
      ],
      "metadata": {
        "id": "ZAekVsdQIMsn"
      }
    },
    {
      "cell_type": "code",
      "source": [
        "#funciton for count parenthesis\n",
        "\n",
        "def count_parenthesis(s,parenthesis):\n",
        "  count=0\n",
        "  for i in s:\n",
        "    if i==parenthesis:\n",
        "      count+=1\n",
        "  return count\n",
        "\n",
        "# function for parenthesis correction\n",
        "def parenthesis_correction(s):\n",
        "  print(\"Before Correction of parentheses:\",s)\n",
        "  stack=[]\n",
        "  for i in range(len(s)):\n",
        "    if s[i]== '(':\n",
        "      stack.append(s[i])\n",
        "    if s[i]==')':\n",
        "      if len(stack):\n",
        "       cha= stack.pop()\n",
        "  #reverse string for last \"(\" access\n",
        "  new_s= s[::-1]\n",
        "\n",
        "  # by lenth of stack remove the \"(\"\n",
        "  for i in range(0, len(stack)):\n",
        "    new_s = new_s.replace(\"(\",'',1)\n",
        "  reve = new_s[::-1]\n",
        "\n",
        "  return reve\n",
        "  \n",
        "#Run Parentheses Correction Function with given string\n",
        "\n",
        "result = parenthesis_correction(\"((\") #Please give here your ()'s input \n",
        "\n",
        "\n",
        "count_1= count_parenthesis(result,')')\n",
        "count_2= count_parenthesis(result,'(')\n",
        "count_m= count_1-count_2\n",
        "\n",
        "#Number of \"(\" and \")\" is not equal then remove the \")\" by count_m \n",
        "\n",
        "if count_1!=count_2:\n",
        "  for i in range(0, count_m):\n",
        "    result = result.replace(')','',1)\n",
        "  print(\"After Correction of parentheses :\",result)\n",
        "else:\n",
        "  print(\"After Correction of parentheses :\", result)\n",
        "\n",
        "\n"
      ],
      "metadata": {
        "colab": {
          "base_uri": "https://localhost:8080/"
        },
        "id": "nibISkdbDcA8",
        "outputId": "7a993996-8a43-4d4b-e412-d74f8370326a"
      },
      "execution_count": null,
      "outputs": [
        {
          "output_type": "stream",
          "name": "stdout",
          "text": [
            "Before Correction of parentheses: ((\n",
            "After Correction of parentheses : \n"
          ]
        }
      ]
    },
    {
      "cell_type": "code",
      "source": [],
      "metadata": {
        "id": "4kOUrDXVp4DH"
      },
      "execution_count": null,
      "outputs": []
    }
  ]
}